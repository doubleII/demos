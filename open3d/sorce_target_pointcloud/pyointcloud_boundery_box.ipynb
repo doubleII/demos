{
 "cells": [
  {
   "cell_type": "code",
   "execution_count": 5,
   "metadata": {},
   "outputs": [
    {
     "name": "stdout",
     "output_type": "stream",
     "text": [
      "RGBDImage of size \n",
      "Color image : 2448x2048, with 1 channels.\n",
      "Depth image : 2448x2048, with 1 channels.\n",
      "Use numpy.asarray to access buffer data.\n"
     ]
    }
   ],
   "source": [
    "import open3d as o3d\n",
    "\n",
    "\n",
    "color_raw_0 = o3d.io.read_image('./dataset/realsense/color/cam0_0.png')\n",
    "depth_raw_0 = o3d.io.read_image('./dataset/realsense/depth/cam0_0.png')\n",
    "rgbd_image_0 = o3d.geometry.RGBDImage.create_from_color_and_depth(color_raw_0, depth_raw_0)\n",
    "print(rgbd_image_0)\n"
   ]
  },
  {
   "cell_type": "code",
   "execution_count": 6,
   "metadata": {},
   "outputs": [
    {
     "name": "stdout",
     "output_type": "stream",
     "text": [
      "[[3.40279761e+03 0.00000000e+00 1.24198049e+03]\n",
      " [0.00000000e+00 3.41122021e+03 1.08247093e+03]\n",
      " [0.00000000e+00 0.00000000e+00 1.00000000e+00]]\n"
     ]
    }
   ],
   "source": [
    "# Camera intrinsic parameters built into Open3D for Prime Sense\n",
    "w0 = 2480\n",
    "h0 = 2048\n",
    "fx0 = 3.40279761e+03\n",
    "fy0 = 3.41122021e+03\n",
    "cx0 = 1.24198049e+03\n",
    "cy0 = 1.08247093e+03\n",
    "intrinsic_0 = o3d.camera.PinholeCameraIntrinsic(w0, h0, fx0, fy0, cx0, cy0)\n",
    "print(intrinsic_0.intrinsic_matrix)"
   ]
  },
  {
   "cell_type": "code",
   "execution_count": 7,
   "metadata": {},
   "outputs": [],
   "source": [
    "intrinsic_1 = o3d.camera.PinholeCameraIntrinsic(w0, h0, fx0, fy0, cx0, cy0)\n",
    "rgbd_image_1 = o3d.geometry.RGBDImage.create_from_color_and_depth(color_raw_0, depth_raw_0)"
   ]
  },
  {
   "cell_type": "code",
   "execution_count": 10,
   "metadata": {},
   "outputs": [
    {
     "name": "stdout",
     "output_type": "stream",
     "text": [
      "PointCloud with 2828427 points.\n"
     ]
    }
   ],
   "source": [
    "# Create the point cloud from images and camera intrisic parameters\n",
    "pcd = o3d.geometry.PointCloud.create_from_rgbd_image(rgbd_image_0, intrinsic_0)\n",
    "# Flip it, otherwise the pointcloud will be upside down.\n",
    "pcd.transform([[1, 0, 0, 0], [0, -1, 0, 0], [0, 0, -1, 0], [0, 0, 0, 1]])\n",
    "print(pcd)\n"
   ]
  },
  {
   "cell_type": "code",
   "execution_count": 9,
   "metadata": {},
   "outputs": [
    {
     "ename": "RuntimeError",
     "evalue": "QH6154 Qhull precision error: Initial simplex is flat (facet 1 is coplanar with the interior point)\n\nWhile executing:  | qhull Qt\nOptions selected for Qhull 2020.2.r 2020/08/31:\n  run-id 1991439120  Qtriangulate  _pre-merge  _zero-centrum\n  _max-width 2.8e-06  Error-roundoff 5.2e-21  _one-merge 3.7e-20\n  _near-inside 1.8e-19  Visible-distance 1e-20  U-max-coplanar 1e-20\n  Width-outside 2.1e-20  _wide-facet 6.3e-20  _maxoutside 4.2e-20\n\nThe input to qhull appears to be less than 3 dimensional, or a\ncomputation has overflowed.\n\nQhull could not construct a clearly convex simplex from points:\n- p2825979(v4): -1.4e-06 -1.1e-06 -3.9e-06\n- p0(v3): 5e-07 9.4e-07 -3.9e-06\n- p2490619(v2): 1.4e-06 -9.5e-07 -3.9e-06\n- p631428(v1): -1.4e-06 2e-07 -3.9e-06\n\nThe center point is coplanar with a facet, or a vertex is coplanar\nwith a neighboring facet.  The maximum round off error for\ncomputing distances is 5.2e-21.  The center point, facets and distances\nto the center point are as follows:\n\ncenter point -2.437e-07 -2.314e-07 -3.922e-06\n\nfacet p0 p2490619 p631428 distance=    0\nfacet p2825979 p2490619 p631428 distance=    0\nfacet p2825979 p0 p631428 distance=    0\nfacet p2825979 p0 p2490619 distance=    0\n\nThese points either have a maximum or minimum x-coordinate, or\nthey maximize the determinant for k coordinates.  Trial points\nare first selected from points that maximize a coordinate.\n\nThe min and max coordinates for each dimension are:\n  0:  -1.431e-06  1.389e-06  difference= 2.82e-06\n  1:  -1.109e-06  9.352e-07  difference= 2.044e-06\n  2:  -3.922e-06  -2.225e-308  difference= 3.922e-06\n\nIf the input should be full dimensional, you have several options that\nmay determine an initial simplex:\n  - use 'QJ'  to joggle the input and make it full dimensional\n  - use 'QbB' to scale the points to the unit cube\n  - use 'QR0' to randomly rotate the input for different maximum points\n  - use 'Qs'  to search all points for the initial simplex\n  - use 'En'  to specify a maximum roundoff error less than 5.2e-21.\n  - trace execution with 'T3' to see the determinant for each point.\n\nIf the input is lower dimensional:\n  - use 'QJ' to joggle the input and make it full dimensional\n  - use 'Qbk:0Bk:0' to delete coordinate k from the input.  You should\n    pick the coordinate with the least range.  The hull will have the\n    correct topology.\n  - determine the flat containing the points, rotate the points\n    into a coordinate plane, and delete the other coordinates.\n  - add one or more points to make the input full dimensional.\n",
     "output_type": "error",
     "traceback": [
      "\u001b[1;31m---------------------------------------------------------------------------\u001b[0m",
      "\u001b[1;31mRuntimeError\u001b[0m                              Traceback (most recent call last)",
      "\u001b[1;32mc:\\Developement\\Tutorials\\demos\\open3d\\sorce_target_pointcloud\\pyointcloud_boundery_box.ipynb Cell 5\u001b[0m in \u001b[0;36m<cell line: 3>\u001b[1;34m()\u001b[0m\n\u001b[0;32m      <a href='vscode-notebook-cell:/c%3A/Developement/Tutorials/demos/open3d/sorce_target_pointcloud/pyointcloud_boundery_box.ipynb#W4sZmlsZQ%3D%3D?line=0'>1</a>\u001b[0m axis_aligned_bounding_box \u001b[39m=\u001b[39m pcd\u001b[39m.\u001b[39mget_axis_aligned_bounding_box()\n\u001b[0;32m      <a href='vscode-notebook-cell:/c%3A/Developement/Tutorials/demos/open3d/sorce_target_pointcloud/pyointcloud_boundery_box.ipynb#W4sZmlsZQ%3D%3D?line=1'>2</a>\u001b[0m axis_aligned_bounding_box\u001b[39m.\u001b[39mcolor \u001b[39m=\u001b[39m (\u001b[39m1\u001b[39m, \u001b[39m0\u001b[39m, \u001b[39m0\u001b[39m)\n\u001b[1;32m----> <a href='vscode-notebook-cell:/c%3A/Developement/Tutorials/demos/open3d/sorce_target_pointcloud/pyointcloud_boundery_box.ipynb#W4sZmlsZQ%3D%3D?line=2'>3</a>\u001b[0m oriented_bounding_box \u001b[39m=\u001b[39m pcd\u001b[39m.\u001b[39;49mget_oriented_bounding_box()\n\u001b[0;32m      <a href='vscode-notebook-cell:/c%3A/Developement/Tutorials/demos/open3d/sorce_target_pointcloud/pyointcloud_boundery_box.ipynb#W4sZmlsZQ%3D%3D?line=3'>4</a>\u001b[0m oriented_bounding_box\u001b[39m.\u001b[39mcolor \u001b[39m=\u001b[39m (\u001b[39m0\u001b[39m, \u001b[39m1\u001b[39m, \u001b[39m0\u001b[39m)\n\u001b[0;32m      <a href='vscode-notebook-cell:/c%3A/Developement/Tutorials/demos/open3d/sorce_target_pointcloud/pyointcloud_boundery_box.ipynb#W4sZmlsZQ%3D%3D?line=4'>5</a>\u001b[0m \u001b[39mprint\u001b[39m(\n\u001b[0;32m      <a href='vscode-notebook-cell:/c%3A/Developement/Tutorials/demos/open3d/sorce_target_pointcloud/pyointcloud_boundery_box.ipynb#W4sZmlsZQ%3D%3D?line=5'>6</a>\u001b[0m     \u001b[39m\"\u001b[39m\u001b[39mDisplaying axis_aligned_bounding_box in red and oriented bounding box in green ...\u001b[39m\u001b[39m\"\u001b[39m\n\u001b[0;32m      <a href='vscode-notebook-cell:/c%3A/Developement/Tutorials/demos/open3d/sorce_target_pointcloud/pyointcloud_boundery_box.ipynb#W4sZmlsZQ%3D%3D?line=6'>7</a>\u001b[0m )\n",
      "\u001b[1;31mRuntimeError\u001b[0m: QH6154 Qhull precision error: Initial simplex is flat (facet 1 is coplanar with the interior point)\n\nWhile executing:  | qhull Qt\nOptions selected for Qhull 2020.2.r 2020/08/31:\n  run-id 1991439120  Qtriangulate  _pre-merge  _zero-centrum\n  _max-width 2.8e-06  Error-roundoff 5.2e-21  _one-merge 3.7e-20\n  _near-inside 1.8e-19  Visible-distance 1e-20  U-max-coplanar 1e-20\n  Width-outside 2.1e-20  _wide-facet 6.3e-20  _maxoutside 4.2e-20\n\nThe input to qhull appears to be less than 3 dimensional, or a\ncomputation has overflowed.\n\nQhull could not construct a clearly convex simplex from points:\n- p2825979(v4): -1.4e-06 -1.1e-06 -3.9e-06\n- p0(v3): 5e-07 9.4e-07 -3.9e-06\n- p2490619(v2): 1.4e-06 -9.5e-07 -3.9e-06\n- p631428(v1): -1.4e-06 2e-07 -3.9e-06\n\nThe center point is coplanar with a facet, or a vertex is coplanar\nwith a neighboring facet.  The maximum round off error for\ncomputing distances is 5.2e-21.  The center point, facets and distances\nto the center point are as follows:\n\ncenter point -2.437e-07 -2.314e-07 -3.922e-06\n\nfacet p0 p2490619 p631428 distance=    0\nfacet p2825979 p2490619 p631428 distance=    0\nfacet p2825979 p0 p631428 distance=    0\nfacet p2825979 p0 p2490619 distance=    0\n\nThese points either have a maximum or minimum x-coordinate, or\nthey maximize the determinant for k coordinates.  Trial points\nare first selected from points that maximize a coordinate.\n\nThe min and max coordinates for each dimension are:\n  0:  -1.431e-06  1.389e-06  difference= 2.82e-06\n  1:  -1.109e-06  9.352e-07  difference= 2.044e-06\n  2:  -3.922e-06  -2.225e-308  difference= 3.922e-06\n\nIf the input should be full dimensional, you have several options that\nmay determine an initial simplex:\n  - use 'QJ'  to joggle the input and make it full dimensional\n  - use 'QbB' to scale the points to the unit cube\n  - use 'QR0' to randomly rotate the input for different maximum points\n  - use 'Qs'  to search all points for the initial simplex\n  - use 'En'  to specify a maximum roundoff error less than 5.2e-21.\n  - trace execution with 'T3' to see the determinant for each point.\n\nIf the input is lower dimensional:\n  - use 'QJ' to joggle the input and make it full dimensional\n  - use 'Qbk:0Bk:0' to delete coordinate k from the input.  You should\n    pick the coordinate with the least range.  The hull will have the\n    correct topology.\n  - determine the flat containing the points, rotate the points\n    into a coordinate plane, and delete the other coordinates.\n  - add one or more points to make the input full dimensional.\n"
     ]
    }
   ],
   "source": [
    "axis_aligned_bounding_box = pcd.get_axis_aligned_bounding_box()\n",
    "axis_aligned_bounding_box.color = (1, 0, 0)\n",
    "oriented_bounding_box = pcd.get_oriented_bounding_box()\n",
    "oriented_bounding_box.color = (0, 1, 0)\n",
    "print(\n",
    "    \"Displaying axis_aligned_bounding_box in red and oriented bounding box in green ...\"\n",
    ")\n",
    "o3d.visualization.draw(\n",
    "    [pcd, axis_aligned_bounding_box, oriented_bounding_box])"
   ]
  }
 ],
 "metadata": {
  "kernelspec": {
   "display_name": "Python 3",
   "language": "python",
   "name": "python3"
  },
  "language_info": {
   "codemirror_mode": {
    "name": "ipython",
    "version": 3
   },
   "file_extension": ".py",
   "mimetype": "text/x-python",
   "name": "python",
   "nbconvert_exporter": "python",
   "pygments_lexer": "ipython3",
   "version": "3.8.0"
  },
  "orig_nbformat": 4,
  "vscode": {
   "interpreter": {
    "hash": "b081a66ee97bd2b6a16f43955f1d810b7ea816d6eaeb65e157ef9e038445f0c6"
   }
  }
 },
 "nbformat": 4,
 "nbformat_minor": 2
}
